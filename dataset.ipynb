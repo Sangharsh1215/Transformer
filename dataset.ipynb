{
  "cells": [
    {
      "cell_type": "markdown",
      "metadata": {
        "colab_type": "text",
        "id": "view-in-github"
      },
      "source": [
        "<a href=\"https://colab.research.google.com/github/Sangharsh1215/Transformer/blob/main/dataset.ipynb\" target=\"_parent\"><img src=\"https://colab.research.google.com/assets/colab-badge.svg\" alt=\"Open In Colab\"/></a>"
      ]
    },
    {
      "cell_type": "code",
      "execution_count": 14,
      "metadata": {
        "id": "g7PgrkrVNEyd"
      },
      "outputs": [],
      "source": [
        "from typing import Any\n",
        "import torch\n",
        "import torch.nn as nn\n",
        "from torch.utils.data import Dataset"
      ]
    },
    {
      "cell_type": "code",
      "execution_count": 17,
      "metadata": {},
      "outputs": [],
      "source": [
        "def casual_mask(size):\n",
        "    mask = torch.triu(torch.ones(1,size,size), diagonal = 1).type(torch.inc)\n",
        "    return mask == 0"
      ]
    },
    {
      "cell_type": "code",
      "execution_count": 18,
      "metadata": {
        "id": "3RLrIwriNung"
      },
      "outputs": [],
      "source": [
        "class BillingualDataset(Dataset):\n",
        "  def __init__(self, ds, tokenizer_src, tokenizer_tgt, src_lang, tgt_lang, seq_len):\n",
        "    super().__init__()\n",
        "\n",
        "\n",
        "    self.ds = ds\n",
        "    self.tokenizer_src = tokenizer_src\n",
        "    self.tokenizer_tgt = tokenizer_tgt\n",
        "    self.src_lang = src_lang\n",
        "    self.tgt_lang = tgt_lang\n",
        "\n",
        "    self.sos_token = torch.Tensor([tokenizer_src.token_to_id(['[SOS]'])], dtype = torch.int64)\n",
        "    self.eos_token = torch.Tensor([tokenizer_src.token_to_id(['[EOS]'])], dtype = torch.int64)\n",
        "    self.pad_token = torch.Tensor([tokenizer_src.token_to_id(['[PAD]'])], dtype = torch.int64)\n",
        "\n",
        "    def __len__(self):\n",
        "      return len(self.ds)\n",
        "\n",
        "    def __getitem__(self, index: Any) -> Any:\n",
        "      src_target_pair = self.ds[index]\n",
        "      src_text = src_target_pair['translation'][self.src_lang]\n",
        "      tgt_text = src_target_pair['translation'][self.tgt_lang]\n",
        "\n",
        "\n",
        "      enc_input_tokens = self.tokenizer_src.encode(src_text).ids\n",
        "      dec_input_tokens = self.tokenizer_tgt.encode(tgt_text).ids\n",
        "\n",
        "      enc_num_padding_tokens = self.seq_len - len(enc_input_tokens) - 2\n",
        "      dec_num_padding_tokens = self.seq_len - len(dec_input_tokens) - 1\n",
        "\n",
        "      if enc_num_padding_tokens < 0 or dec_num_padding_tokens < 0:\n",
        "        raise ValueError('sentance is too long')\n",
        "\n",
        "\n",
        "      encoder_input = torch.cat(\n",
        "          [\n",
        "              self.sos_token,\n",
        "              torch.tensor(enc_input_tokens, stype = torch.int64),\n",
        "              self.eos_token,\n",
        "              torch.tensor([self.pad_token] * enc_num_padding_tokens, dtype = torch.int64)\n",
        "          ]\n",
        "      )\n",
        "\n",
        "\n",
        "      decoder_input = torch.cat(\n",
        "          [\n",
        "              self.sos_token,\n",
        "              torch.tensor(dec_input_tokens, stype = torch.int64),\n",
        "              torch.tensor([self.pad_token] * dec_num_padding_tokens, dtype = torch.int64)\n",
        "          ]\n",
        "      )\n",
        "\n",
        "\n",
        "      label = torch.cat(\n",
        "          [\n",
        "\n",
        "              torch.tensor(dec_input_tokens, stype = torch.int64),\n",
        "              self.eos_token,\n",
        "              torch.tensor([self.pad_token] * dec_num_padding_tokens, dtype = torch.int64)\n",
        "          ]\n",
        "      )\n",
        "\n",
        "\n",
        "      assert encoder_input.size(0) == self.seq_len\n",
        "      assert decoder_input.size(0) == self.seq_len\n",
        "      assert label.size(0) == self.seq_len\n",
        "\n",
        "      return {\n",
        "          \"encoder_input\": encoder_input,\n",
        "          \"decoder_input\": decoder_input,\n",
        "          \"encoder_mask\" :(encoder_input != self.pad_token).unsqueeze(0).int(),\n",
        "          \"decoder_mask\" :(decoder_input != self.pad_token).unsqueeze(0).int() & casual_mask(decoder_input.size(0)),\n",
        "          \"label\" : label,\n",
        "          \"src_text\": src_text,\n",
        "          \"tgt_text\": tgt_text\n",
        "      }\n",
        "\n"
      ]
    },
    {
      "cell_type": "code",
      "execution_count": null,
      "metadata": {
        "id": "ng81_zdP97RE"
      },
      "outputs": [],
      "source": []
    }
  ],
  "metadata": {
    "colab": {
      "authorship_tag": "ABX9TyMvSwETMpcBkZzK6ADFystT",
      "include_colab_link": true,
      "provenance": []
    },
    "kernelspec": {
      "display_name": "Python 3",
      "name": "python3"
    },
    "language_info": {
      "codemirror_mode": {
        "name": "ipython",
        "version": 3
      },
      "file_extension": ".py",
      "mimetype": "text/x-python",
      "name": "python",
      "nbconvert_exporter": "python",
      "pygments_lexer": "ipython3",
      "version": "3.11.5"
    }
  },
  "nbformat": 4,
  "nbformat_minor": 0
}
